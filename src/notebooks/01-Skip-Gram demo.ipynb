{
    "cells": [
        {
            "cell_type": "markdown",
            "metadata": {},
            "source": [
                "# Skip-Gram Model Demonstration"
            ]
        },
        {
            "cell_type": "code",
            "execution_count": 1,
            "metadata": {},
            "outputs": [],
            "source": [
                "# Install necessary libraries\n",
                "# Uncomment the line below to install required packages\n",
                "# !pip install numpy gensim matplotlib"
            ]
        },
        {
            "cell_type": "code",
            "execution_count": 2,
            "metadata": {},
            "outputs": [],
            "source": [
                "## Importing necessary libraries\n",
                "import numpy as np\n",
                "from gensim.models import Word2Vec\n",
                "import matplotlib.pyplot as plt"
            ]
        },
        {
            "cell_type": "code",
            "execution_count": 3,
            "metadata": {},
            "outputs": [],
            "source": [
                "## Simple example dataset\n",
                "documents = [\n",
                "    \"The dog barks\",\n",
                "    \"A dog is a pet\",\n",
                "    \"Cats and dogs are popular pets\",\n",
                "    \"The dog plays in the park\",\n",
                "    \"The cat sleeps on the couch\"\n",
                "]"
            ]
        },
        {
            "cell_type": "code",
            "execution_count": 4,
            "metadata": {},
            "outputs": [],
            "source": [
                "## Tokenizing the sentences\n",
                "# Convert each sentence to lowercase and split into words\n",
                "sentences = [doc.lower().split() for doc in documents]"
            ]
        },
        {
            "cell_type": "code",
            "execution_count": 5,
            "metadata": {},
            "outputs": [],
            "source": [
                "## Training a Skip-Gram model\n",
                "# Initialize and train the Word2Vec model with Skip-Gram\n",
                "model = Word2Vec(sentences, vector_size=10, window=2, min_count=1, sg=1)"
            ]
        },
        {
            "cell_type": "code",
            "execution_count": 6,
            "metadata": {},
            "outputs": [
                {
                    "name": "stdout",
                    "output_type": "stream",
                    "text": [
                        "Vector for 'dog': [ 0.01521778 -0.02240374  0.04538573 -0.04843775  0.03956548 -0.04697673\n",
                        "  0.04319709 -0.01147669 -0.02494546 -0.01619863]\n",
                        "Vector for 'cat': [ 0.01664109 -0.01494748 -0.02252962 -0.0349847  -0.03235445  0.02764889\n",
                        "  0.04668408 -0.02254803 -0.01676486  0.04890791]\n"
                    ]
                }
            ],
            "source": [
                "## Displaying the vectors for 'dog' and 'cat'\n",
                "# Retrieve and print word vectors for 'dog' and 'cat'\n",
                "dog_vector = model.wv['dog']\n",
                "cat_vector = model.wv['cat']\n",
                "\n",
                "print(\"Vector for 'dog':\", dog_vector)\n",
                "print(\"Vector for 'cat':\", cat_vector)"
            ]
        },
        {
            "cell_type": "code",
            "execution_count": 7,
            "metadata": {},
            "outputs": [],
            "source": [
                "## Function to visualize word embeddings\n",
                "def plot_word_vectors(model):\n",
                "    # Extract words and their vectors\n",
                "    words = list(model.wv.key_to_index)\n",
                "    vectors = [model.wv[word] for word in words]\n",
                "    \n",
                "    # Create a scatter plot\n",
                "    plt.figure(figsize=(8, 8))\n",
                "    plt.scatter(\n",
                "        np.array(vectors)[:, 0], np.array(vectors)[:, 1],\n",
                "    )\n",
                "    \n",
                "    # Annotate each point with the word\n",
                "    for i, word in enumerate(words):\n",
                "        plt.annotate(word, xy=(vectors[i][0], vectors[i][1]))\n",
                "    \n",
                "    # Add title and labels\n",
                "    plt.title('Word Vectors Visualization')\n",
                "    plt.xlabel('X-axis')\n",
                "    plt.ylabel('Y-axis')\n",
                "    plt.grid(True)\n",
                "    plt.show()"
            ]
        },
        {
            "cell_type": "code",
            "execution_count": 8,
            "metadata": {},
            "outputs": [],
            "source": [
                "## Visualizing the word vectors\n",
                "# Call the function to visualize the trained word vectors\n",
                "plot_word_vectors(model)"
            ]
        }
    ],
    "metadata": {
        "kernelspec": {
            "display_name": "Python 3",
            "language": "python",
            "name": "python3"
        },
        "language_info": {
            "codemirror_mode": {
                "name": "ipython",
                "version": 3
            },
            "file_extension": ".py",
            "mimetype": "text/x-python",
            "name": "python",
            "nbconvert_exporter": "python",
            "pygments_lexer": "ipython3",
            "version": "3.12.5"
        }
    },
    "nbformat": 4,
    "nbformat_minor": 4
}
