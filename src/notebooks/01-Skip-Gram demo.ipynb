{
    "cells": [
        {
            "cell_type": "markdown",
            "metadata": {},
            "source": [
                "# Skip-Gram demo\n",
                "\n",
                "This notebook demonstrates how to use skip-grams to generate word embeddings."
            ]
        },
        {
            "cell_type": "code",
            "execution_count": 35,
            "metadata": {},
            "outputs": [
                {
                    "name": "stdout",
                    "output_type": "stream",
                    "text": [
                        "Sentence: The wide road shimmered in the hot sun\n",
                        "Window size: 2\n",
                        "\n",
                        "Skip-gram pairs:\n",
                        "(the, wide)\n",
                        "(the, road)\n",
                        "(wide, the)\n",
                        "(wide, road)\n",
                        "(wide, shimmered)\n",
                        "(road, the)\n",
                        "(road, wide)\n",
                        "(road, shimmered)\n",
                        "(road, in)\n",
                        "(shimmered, wide)\n",
                        "(shimmered, road)\n",
                        "(shimmered, in)\n",
                        "(shimmered, the)\n",
                        "(in, road)\n",
                        "(in, shimmered)\n",
                        "(in, the)\n",
                        "(in, hot)\n",
                        "(the, shimmered)\n",
                        "(the, in)\n",
                        "(the, hot)\n",
                        "(the, sun)\n",
                        "(hot, in)\n",
                        "(hot, the)\n",
                        "(hot, sun)\n",
                        "(sun, the)\n",
                        "(sun, hot)\n",
                        "\n",
                        "Demonstrating negative sampling:\n",
                        "Target: the\n",
                        "Positive context: wide\n",
                        "Negative samples: ['hot', 'shimmered']\n",
                        "\n",
                        "Target: the\n",
                        "Positive context: road\n",
                        "Negative samples: ['wide', 'sun']\n",
                        "\n",
                        "Target: wide\n",
                        "Positive context: the\n",
                        "Negative samples: ['road', 'road']\n",
                        "\n"
                    ]
                }
            ],
            "source": [
                "import numpy as np\n",
                "\n",
                "def generate_skip_grams(sentence, window_size):\n",
                "    words = sentence.lower().split()\n",
                "    skip_grams = []\n",
                "    \n",
                "    for i, target_word in enumerate(words):\n",
                "        for j in range(max(0, i - window_size), min(len(words), i + window_size + 1)):\n",
                "            if i != j:\n",
                "                skip_grams.append((target_word, words[j]))\n",
                "    \n",
                "    return skip_grams\n",
                "\n",
                "# Example sentence\n",
                "sentence = \"The wide road shimmered in the hot sun\"\n",
                "window_size = 2\n",
                "\n",
                "skip_grams = generate_skip_grams(sentence, window_size)\n",
                "\n",
                "print(f\"Sentence: {sentence}\")\n",
                "print(f\"Window size: {window_size}\")\n",
                "print(\"\\nSkip-gram pairs:\")\n",
                "for target, context in skip_grams:\n",
                "    print(f\"({target}, {context})\")\n",
                "\n",
                "# Demonstrate negative sampling\n",
                "vocab = list(set(sentence.lower().split()))\n",
                "vocab_size = len(vocab)\n",
                "\n",
                "def negative_sampling(target, context, num_negative):\n",
                "    negative_samples = []\n",
                "    while len(negative_samples) < num_negative:\n",
                "        neg = np.random.choice(vocab)\n",
                "        if neg != target and neg != context:\n",
                "            negative_samples.append(neg)\n",
                "    return negative_samples\n",
                "\n",
                "print(\"\\nDemonstrating negative sampling:\")\n",
                "num_negative = 2\n",
                "for target, context in skip_grams[:3]:  # Show for first 3 skip-grams\n",
                "    negatives = negative_sampling(target, context, num_negative)\n",
                "    print(f\"Target: {target}\")\n",
                "    print(f\"Positive context: {context}\")\n",
                "    print(f\"Negative samples: {negatives}\")\n",
                "    print()"
            ]
        },
        {
            "cell_type": "code",
            "execution_count": null,
            "metadata": {},
            "outputs": [],
            "source": []
        }
    ],
    "metadata": {
        "kernelspec": {
            "display_name": "Python 3",
            "language": "python",
            "name": "python3"
        },
        "language_info": {
            "codemirror_mode": {
                "name": "ipython",
                "version": 3
            },
            "file_extension": ".py",
            "mimetype": "text/x-python",
            "name": "python",
            "nbconvert_exporter": "python",
            "pygments_lexer": "ipython3",
            "version": "3.8.0"
        }
    },
    "nbformat": 4,
    "nbformat_minor": 4
}
